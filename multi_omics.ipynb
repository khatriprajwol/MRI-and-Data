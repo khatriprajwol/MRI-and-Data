{
  "nbformat": 4,
  "nbformat_minor": 0,
  "metadata": {
    "colab": {
      "provenance": [],
      "authorship_tag": "ABX9TyMIjNxRMnG8zs7NezmaPvBe",
      "include_colab_link": true
    },
    "kernelspec": {
      "name": "python3",
      "display_name": "Python 3"
    },
    "language_info": {
      "name": "python"
    }
  },
  "cells": [
    {
      "cell_type": "markdown",
      "metadata": {
        "id": "view-in-github",
        "colab_type": "text"
      },
      "source": [
        "<a href=\"https://colab.research.google.com/github/khatriprajwol/MRI-and-Data/blob/main/multi_omics.ipynb\" target=\"_parent\"><img src=\"https://colab.research.google.com/assets/colab-badge.svg\" alt=\"Open In Colab\"/></a>"
      ]
    },
    {
      "cell_type": "markdown",
      "source": [
        "#What are multi-omics?"
      ],
      "metadata": {
        "id": "Kt-NB0TXCTv4"
      }
    },
    {
      "cell_type": "markdown",
      "source": [
        "##Information flow in biology\n",
        "\n",
        "                                    DNA -------> RNA ------->  Protein\n",
        "\n",
        "The information flows from DNA which is then transcribed to RNA, and then translated into protein to deliver an outcome.\n",
        "\n",
        "##Impact of DNA mutations\n",
        "\n",
        "- No effect or impact at all\n",
        "- effect protein quantity and therefore for example reduce amount of RNA\n",
        "- effect protein quality (function)\n",
        "\n",
        "\n"
      ],
      "metadata": {
        "id": "CNfrunfhCc81"
      }
    },
    {
      "cell_type": "markdown",
      "source": [
        "##Pathway to disease\n",
        "\n",
        "\n",
        "            DNA -> RNA -> Protein -> Cell -> Organ -> Organism\n",
        "                                  |\n",
        "                              Environment\n",
        "\n",
        "DNA mutation can have alterations in the quality or quantity of RNA which then results in both quality and quantity of the protein and the way it interacts with with network to give a cellular phenotype and how those cell interact within an organ to cause an organ dysfunction which will then lead to disease. Genetic mutation can drive these process but there are obviously an environmental factor than can influence any of these steps."
      ],
      "metadata": {
        "id": "kkf5uXZ3Hlx6"
      }
    },
    {
      "cell_type": "markdown",
      "source": [
        "Multi-omics\n",
        "\n",
        "It is a biological approach that combines data from multiple \"omes\" (like genomics, transcriptomics, and proteomics) to gain a more compherehensive understanding of complex biological systems and diseases. By intehrating different layers of molecular information, such as genes, RNA, and proteins, researchers can connect the genotype to the phenotype, uncover hidden mechanisms, and improve disease diagnosis, progonsis, and treatment.\n",
        "\n",
        "\n",
        "- DNA\n",
        "  - Genomics\n",
        "      = Sequencing hold on genome at population level in\n",
        "  - Epigenomics\n",
        "      = DNA modifications\n",
        "\n",
        "- RNA\n",
        "  - Transcriptomics Bulk\n",
        "  - Single Cell\n",
        "  - Spatial\n",
        "\n",
        "- Protein\n",
        "  - Proteomics\n",
        "      at bulk or single cell level\n",
        "  \n",
        "- Cell\n",
        "  - Metabolomics\n",
        "  - Lipidomics\n",
        "  - Cytometry\n",
        "\n",
        "- Organ\n",
        "  - Function (Challenge:- How can you handle mising data?)\n",
        "\n",
        "- Organism\n",
        "  - Electronic Health Record(EHR)\n",
        "  - Imaging\n",
        "  - Sensors"
      ],
      "metadata": {
        "id": "ryLGhEHwUQ6d"
      }
    },
    {
      "cell_type": "markdown",
      "source": [
        "##Multi-omics: potential tasks\n",
        "\n",
        "Is this DNA mutation relevant, how does it cause disease?\n",
        "\n",
        "1. Casual discovery\n",
        "2. Mechanisms of disease (develop generative models)\n",
        "3. Biomarker discovery/Prediction\n",
        "4. Synthetic\n",
        "5. Drug discovery (Cellular response)\n"
      ],
      "metadata": {
        "id": "jU_JhxtBXUwf"
      }
    },
    {
      "cell_type": "markdown",
      "source": [
        "Open Source Multi-omics tools\n",
        "\n",
        "- https://saezlab.org/software/\n",
        "\n"
      ],
      "metadata": {
        "id": "cgAn2ElCgqoM"
      }
    }
  ]
}