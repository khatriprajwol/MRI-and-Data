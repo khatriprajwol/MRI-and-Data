{
  "nbformat": 4,
  "nbformat_minor": 0,
  "metadata": {
    "colab": {
      "provenance": [],
      "authorship_tag": "ABX9TyPE88a3LZKlF868Y/z+Az3k",
      "include_colab_link": true
    },
    "kernelspec": {
      "name": "python3",
      "display_name": "Python 3"
    },
    "language_info": {
      "name": "python"
    }
  },
  "cells": [
    {
      "cell_type": "markdown",
      "metadata": {
        "id": "view-in-github",
        "colab_type": "text"
      },
      "source": [
        "<a href=\"https://colab.research.google.com/github/khatriprajwol/MRI-and-Data/blob/main/Autism%20Spectrum%20Disorders%20(ASD).ipynb\" target=\"_parent\"><img src=\"https://colab.research.google.com/assets/colab-badge.svg\" alt=\"Open In Colab\"/></a>"
      ]
    },
    {
      "cell_type": "markdown",
      "source": [
        "\n",
        "#Autism Spectrum Disorders(ASD)\n",
        "\n",
        "- Neurological developmental disorders characterized by impaired social interactions, difficulties in communication, and repetitive behaviors\n",
        "- \"Spectrum\" -> wide range of symptoms and severity\n",
        "- Prevalence in US: 1 in 17 children\n",
        "- About 4x more common in boys than girls\n",
        "- Cause unknown, treat symptoms\n"
      ],
      "metadata": {
        "id": "XbXcXoDtxlIn"
      }
    }
  ]
}