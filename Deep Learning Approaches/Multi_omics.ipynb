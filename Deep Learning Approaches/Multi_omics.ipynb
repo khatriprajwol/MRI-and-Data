{
  "nbformat": 4,
  "nbformat_minor": 0,
  "metadata": {
    "colab": {
      "provenance": [],
      "authorship_tag": "ABX9TyOIDtT3Z6aE5V65SZEwffZ/",
      "include_colab_link": true
    },
    "kernelspec": {
      "name": "python3",
      "display_name": "Python 3"
    },
    "language_info": {
      "name": "python"
    }
  },
  "cells": [
    {
      "cell_type": "markdown",
      "metadata": {
        "id": "view-in-github",
        "colab_type": "text"
      },
      "source": [
        "<a href=\"https://colab.research.google.com/github/khatriprajwol/MRI-and-Data/blob/main/Multi_omics.ipynb\" target=\"_parent\"><img src=\"https://colab.research.google.com/assets/colab-badge.svg\" alt=\"Open In Colab\"/></a>"
      ]
    },
    {
      "cell_type": "markdown",
      "source": [
        "#What are multi-omics?"
      ],
      "metadata": {
        "id": "Kt-NB0TXCTv4"
      }
    },
    {
      "cell_type": "markdown",
      "source": [
        "##Information flow in biology\n",
        "\n",
        "                                    DNA -------> RNA ------->  Protein\n",
        "\n",
        "The information flows from DNA which is then transcribed to RNA, and then translated into protein to deliver an outcome.\n",
        "\n",
        "##Impact of DNA mutations\n",
        "\n",
        "- No effect or impact at all\n",
        "- effect protein quantity and therefore for example reduce amount of RNA\n",
        "- effect protein quality (function)\n",
        "\n",
        "\n"
      ],
      "metadata": {
        "id": "CNfrunfhCc81"
      }
    },
    {
      "cell_type": "markdown",
      "source": [
        "##Pathway to disease\n",
        "\n",
        "\n",
        "    DNA -> RNA -> Protein -> Cell -> Organ -> Organism\n",
        "                        |\n",
        "                    Environment\n",
        "\n",
        "DNA mutation can have alterations in the quality or quantity of RNA which then results in both quality and quantity of the protein and the way it interacts with with network to give a cellular phenotype and how those cell interact within an organ to cause an organ dysfunction which will then lead to disease. Genetic mutation can drive these process but there are obviously an environmental factor than can influence any of these steps."
      ],
      "metadata": {
        "id": "kkf5uXZ3Hlx6"
      }
    }
  ]
}
