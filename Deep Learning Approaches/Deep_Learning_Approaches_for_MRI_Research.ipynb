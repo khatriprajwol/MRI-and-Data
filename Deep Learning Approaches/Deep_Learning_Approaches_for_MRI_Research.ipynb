{
  "nbformat": 4,
  "nbformat_minor": 0,
  "metadata": {
    "colab": {
      "provenance": [],
      "authorship_tag": "ABX9TyMqVcAwCvDXbbbJpIENwhnq",
      "include_colab_link": true
    },
    "kernelspec": {
      "name": "python3",
      "display_name": "Python 3"
    },
    "language_info": {
      "name": "python"
    }
  },
  "cells": [
    {
      "cell_type": "markdown",
      "metadata": {
        "id": "view-in-github",
        "colab_type": "text"
      },
      "source": [
        "<a href=\"https://colab.research.google.com/github/khatriprajwol/MRI-and-Data/blob/main/Deep_Learning_approaches_for_MRI_Research.ipynb\" target=\"_parent\"><img src=\"https://colab.research.google.com/assets/colab-badge.svg\" alt=\"Open In Colab\"/></a>"
      ]
    },
    {
      "cell_type": "markdown",
      "source": [
        "#**Deep Learning approaches for MRI research: How it works?**"
      ],
      "metadata": {
        "id": "-22tuSp6lkpP"
      }
    },
    {
      "cell_type": "markdown",
      "source": [
        "\n",
        "##What is Deep Learning?\n",
        "\n",
        "This is a techinque to learn useful data representation with large amount of data.\n",
        "\n",
        "Deep Learning - Applications\n",
        "\n",
        "- Internet and Cloud\n",
        "    - Image Classification\n",
        "    - Speech Recognition\n",
        "    - language Translation\n",
        "    - Language Processing\n",
        "    - Sentiment Analysis\n",
        "    - Recommendation\n",
        "\n",
        "- Medicine and Biology\n",
        "    - Cancer Cell Dectation\n",
        "    - Diabetic Grading\n",
        "    - Drug Discovery\n",
        "\n",
        "- Media and Entertainment\n",
        "    - Video Captioning\n",
        "    - Video Search\n",
        "    - Real Time Translation\n",
        "\n",
        "- Security and Defense\n",
        "    - Face Detection\n",
        "    - Video Sureillance\n",
        "    - Satellite Imagery\n",
        "\n",
        "- Autonomous Machines\n",
        "    - Pedestrian Detection\n",
        "    - Lane Tracking\n",
        "    - Recognize Traffic Sign\n",
        "\n",
        "These are only few examples out of many out there in the world. One of the key things to remember that the way human sees the world compared to computer see it is quite different. Computer can do mathematical calculations but based on those data human can make a valuable decisions. However, can we use computers to make those decisions? The answer is `Yes`,but it requires advannce techniques and proper mechanism by using deep learning.\n",
        "\n",
        "##Deep Learning vs Machine Learning\n",
        "\n",
        "- Machine Learning (ML) is a way to solve problems without explicit programming.\n",
        "- Deep Learning is an advanced ML technique.\n",
        "\n",
        "##Conventional Approach - Machine Learning\n",
        "\n",
        "                        INPUT\n",
        "            (Natural Images, MR raw data, MR images)\n",
        "\n",
        "                          |\n",
        "                          |\n",
        "\n",
        "            Hand Engineered Feature Extraction\n",
        "                (Edges, HOG, SIFT etc)\n",
        "\n",
        "                          |\n",
        "                          |\n",
        "\n",
        "                    Machine Learning\n",
        "            (SVM, K-means, tree classifiers etc)\n",
        "\n",
        "                          |\n",
        "                          |\n",
        "\n",
        "                      OUTPUTS\n",
        "            (Cats, Dogs, airplane etc)\n",
        "        (MR Images:- Brain Tumor, WMH, disease)"
      ],
      "metadata": {
        "id": "D5o1X683k7XJ"
      }
    },
    {
      "cell_type": "markdown",
      "source": [],
      "metadata": {
        "id": "_wbhDINImRKP"
      }
    }
  ]
}
